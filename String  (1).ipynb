{
 "cells": [
  {
   "cell_type": "markdown",
   "id": "81562b9d-0db6-4458-b109-7fc760cbba2d",
   "metadata": {},
   "source": [
    "Ans1. We can store a string type variable in single quote (') variable \n",
    "example beloe "
   ]
  },
  {
   "cell_type": "code",
   "execution_count": 1,
   "id": "3c2122f8-54dc-4ebd-b71e-f3740b2c6445",
   "metadata": {},
   "outputs": [],
   "source": [
    "x = 'a'"
   ]
  },
  {
   "cell_type": "code",
   "execution_count": 2,
   "id": "1e88387b-ccf1-4c14-9d7d-77f92dac79e4",
   "metadata": {},
   "outputs": [
    {
     "data": {
      "text/plain": [
       "str"
      ]
     },
     "execution_count": 2,
     "metadata": {},
     "output_type": "execute_result"
    }
   ],
   "source": [
    "type(x)"
   ]
  },
  {
   "cell_type": "code",
   "execution_count": 3,
   "id": "9b80b3a6-4c26-4eb8-a9b4-de7a402e03a1",
   "metadata": {},
   "outputs": [
    {
     "data": {
      "text/plain": [
       "'a'"
      ]
     },
     "execution_count": 3,
     "metadata": {},
     "output_type": "execute_result"
    }
   ],
   "source": [
    "x"
   ]
  },
  {
   "cell_type": "markdown",
   "id": "8a21459f-4296-4796-9172-8353b47468ad",
   "metadata": {},
   "source": [
    "Ans 2 . x is a string type variable . Beacause we are are declaring a variable of x we are using sigle quote(') and as per python data type it store the value as a string.\n",
    "example below "
   ]
  },
  {
   "cell_type": "code",
   "execution_count": 4,
   "id": "9eacad3e-07ff-40b0-8528-c8a5cadcc098",
   "metadata": {},
   "outputs": [],
   "source": [
    "x = 'a'"
   ]
  },
  {
   "cell_type": "code",
   "execution_count": 5,
   "id": "141310b8-3b7a-4916-983e-128f2830ea20",
   "metadata": {},
   "outputs": [
    {
     "data": {
      "text/plain": [
       "str"
      ]
     },
     "execution_count": 5,
     "metadata": {},
     "output_type": "execute_result"
    }
   ],
   "source": [
    "type(x)"
   ]
  },
  {
   "cell_type": "markdown",
   "id": "9f7960c4-9a0c-42fc-a4e0-eb78829634fd",
   "metadata": {},
   "source": [
    "An3. below are the following function on a variable ‘Welcome to Python foundat1on course'"
   ]
  },
  {
   "cell_type": "code",
   "execution_count": 14,
   "id": "68349cd8-2df4-4e52-948c-8624faefa5f4",
   "metadata": {},
   "outputs": [],
   "source": [
    "b = 'Welcome to Python foundat1on course'"
   ]
  },
  {
   "cell_type": "code",
   "execution_count": 15,
   "id": "01617b3e-0441-4d4c-bd6d-e1f99332de37",
   "metadata": {},
   "outputs": [
    {
     "data": {
      "text/plain": [
       "str"
      ]
     },
     "execution_count": 15,
     "metadata": {},
     "output_type": "execute_result"
    }
   ],
   "source": [
    "type(b)"
   ]
  },
  {
   "cell_type": "code",
   "execution_count": 18,
   "id": "52aee8cc-c3d3-445f-8e2e-2c2edb483ad4",
   "metadata": {},
   "outputs": [
    {
     "data": {
      "text/plain": [
       "'Welcome to Python foundat1on course'"
      ]
     },
     "execution_count": 18,
     "metadata": {},
     "output_type": "execute_result"
    }
   ],
   "source": [
    "b"
   ]
  },
  {
   "cell_type": "code",
   "execution_count": 20,
   "id": "446442b1-7056-4ac3-9bbe-8cf9e876dacd",
   "metadata": {},
   "outputs": [
    {
     "data": {
      "text/plain": [
       "4"
      ]
     },
     "execution_count": 20,
     "metadata": {},
     "output_type": "execute_result"
    }
   ],
   "source": [
    "b.find('o')"
   ]
  },
  {
   "cell_type": "code",
   "execution_count": 21,
   "id": "3e149f3c-eb6c-4a0f-9a40-4b153d24efcc",
   "metadata": {},
   "outputs": [
    {
     "data": {
      "text/plain": [
       "1"
      ]
     },
     "execution_count": 21,
     "metadata": {},
     "output_type": "execute_result"
    }
   ],
   "source": [
    "b.count('s')"
   ]
  },
  {
   "cell_type": "code",
   "execution_count": 22,
   "id": "a4e095f9-da00-4366-98f0-d1e5831c7111",
   "metadata": {},
   "outputs": [
    {
     "data": {
      "text/plain": [
       "35"
      ]
     },
     "execution_count": 22,
     "metadata": {},
     "output_type": "execute_result"
    }
   ],
   "source": [
    "len(b)"
   ]
  },
  {
   "cell_type": "code",
   "execution_count": 24,
   "id": "144d85f5-f1e0-4ad7-9f4a-61307ba1707d",
   "metadata": {},
   "outputs": [],
   "source": [
    "c = \"python project\"\n"
   ]
  },
  {
   "cell_type": "code",
   "execution_count": 29,
   "id": "5d45727c-786a-4c8e-9ab2-d13e08708e18",
   "metadata": {},
   "outputs": [],
   "source": [
    "d = b + c "
   ]
  },
  {
   "cell_type": "code",
   "execution_count": 30,
   "id": "9e02f944-fb9b-43ea-a7a5-4c0d7aa73c62",
   "metadata": {},
   "outputs": [
    {
     "name": "stdout",
     "output_type": "stream",
     "text": [
      "Welcome to Python foundat1on coursepython project\n"
     ]
    }
   ],
   "source": [
    "print(d)"
   ]
  },
  {
   "cell_type": "markdown",
   "id": "05e8ee65-78b3-455d-9b7a-e6b803e40a72",
   "metadata": {},
   "source": [
    "Ans 4 word = ‘PanaJi@12256'"
   ]
  },
  {
   "cell_type": "code",
   "execution_count": 54,
   "id": "983ebb37-9485-41fe-8da5-7d70fc06f58e",
   "metadata": {},
   "outputs": [],
   "source": [
    "word = 'PanaJi@12256'"
   ]
  },
  {
   "cell_type": "code",
   "execution_count": 57,
   "id": "de779377-7d05-452d-96d2-45f7cc083831",
   "metadata": {},
   "outputs": [],
   "source": [
    "lowercase_count = 0 "
   ]
  },
  {
   "cell_type": "code",
   "execution_count": 58,
   "id": "43d1e0a2-0292-4e10-aa0c-44cf027c68b4",
   "metadata": {},
   "outputs": [],
   "source": [
    "for char in word: \n",
    "    if char.islower():\n",
    "        lowercase_count +=1"
   ]
  },
  {
   "cell_type": "code",
   "execution_count": 61,
   "id": "518fcd0a-2438-4110-8677-7fb8d012d2d3",
   "metadata": {},
   "outputs": [
    {
     "name": "stdout",
     "output_type": "stream",
     "text": [
      "Total number of lowercase alphabets: 4\n"
     ]
    }
   ],
   "source": [
    "print(f\"Total number of lowercase alphabets: {lowercase_count}\")"
   ]
  },
  {
   "cell_type": "markdown",
   "id": "a61bfba6-a700-4421-866c-eef6b0f9bafa",
   "metadata": {},
   "source": [
    "2. To find the Uppercase alphabets"
   ]
  },
  {
   "cell_type": "code",
   "execution_count": 62,
   "id": "d042b229-9121-42e8-88af-30f348860b21",
   "metadata": {},
   "outputs": [],
   "source": [
    "word = 'PanaJi@12256'"
   ]
  },
  {
   "cell_type": "code",
   "execution_count": 63,
   "id": "553ee8e9-7583-4e50-9608-116b498a8c5b",
   "metadata": {},
   "outputs": [],
   "source": [
    "uppercase_count = 0"
   ]
  },
  {
   "cell_type": "code",
   "execution_count": 64,
   "id": "9138441a-fdd3-45fa-a53f-c8b9682a349f",
   "metadata": {},
   "outputs": [],
   "source": [
    "for char in word:\n",
    "    if char.isupper():\n",
    "        uppercase_count +=1"
   ]
  },
  {
   "cell_type": "code",
   "execution_count": 65,
   "id": "df40e0c9-3cdf-4bdb-b0ea-7d9770f58db8",
   "metadata": {},
   "outputs": [
    {
     "name": "stdout",
     "output_type": "stream",
     "text": [
      "Total number of uppercase alphabets: 2\n"
     ]
    }
   ],
   "source": [
    "print(f\"Total number of uppercase alphabets: {uppercase_count}\")"
   ]
  },
  {
   "cell_type": "markdown",
   "id": "7cbb1de7-2c7f-4f23-9a6b-6ae3f355c2ae",
   "metadata": {},
   "source": [
    "c.  To find the number of numaric in string "
   ]
  },
  {
   "cell_type": "code",
   "execution_count": 66,
   "id": "46dfd526-668a-4ad4-b269-85b86bb97093",
   "metadata": {},
   "outputs": [],
   "source": [
    "word = 'PanaJi@12256'"
   ]
  },
  {
   "cell_type": "code",
   "execution_count": 71,
   "id": "61b1bf73-7974-437a-b03e-32374a5459d6",
   "metadata": {},
   "outputs": [],
   "source": [
    "numeric_count = 0"
   ]
  },
  {
   "cell_type": "code",
   "execution_count": 72,
   "id": "afbcd966-947d-4839-b178-b6e8fbb450bc",
   "metadata": {},
   "outputs": [],
   "source": [
    "for int in word:\n",
    "    if int.isnumeric():\n",
    "        numeric_count +=1"
   ]
  },
  {
   "cell_type": "code",
   "execution_count": 73,
   "id": "3ce9e354-65f5-42cf-a83a-8c1a18a59786",
   "metadata": {},
   "outputs": [
    {
     "name": "stdout",
     "output_type": "stream",
     "text": [
      "Total number of numeric in string: 5\n"
     ]
    }
   ],
   "source": [
    "print(f\"Total number of numeric in string: {numeric_count}\")"
   ]
  },
  {
   "cell_type": "markdown",
   "id": "a12641c9-d8a9-4941-b7de-30d4c876597d",
   "metadata": {},
   "source": [
    "5. Write a code to store a numerical value inside a  var1able then convert it 1nto strng"
   ]
  },
  {
   "cell_type": "code",
   "execution_count": 3,
   "id": "9b5ccf08-193a-47d9-9fc2-c2813fa70820",
   "metadata": {},
   "outputs": [],
   "source": [
    "#storing a numerical value inside a variable \n",
    "num = 60 "
   ]
  },
  {
   "cell_type": "code",
   "execution_count": 4,
   "id": "bb489274-dacd-426d-947e-41fcbe774b33",
   "metadata": {},
   "outputs": [
    {
     "data": {
      "text/plain": [
       "60"
      ]
     },
     "execution_count": 4,
     "metadata": {},
     "output_type": "execute_result"
    }
   ],
   "source": [
    "num"
   ]
  },
  {
   "cell_type": "code",
   "execution_count": 5,
   "id": "258837e5-7ac4-4e95-9703-56f5dcd8ef68",
   "metadata": {},
   "outputs": [],
   "source": [
    "#converting the numerical variable into string\n",
    "\n",
    "num = str(num)"
   ]
  },
  {
   "cell_type": "code",
   "execution_count": 6,
   "id": "522650f9-473c-4340-8547-2aadc00d358b",
   "metadata": {},
   "outputs": [
    {
     "data": {
      "text/plain": [
       "'60'"
      ]
     },
     "execution_count": 6,
     "metadata": {},
     "output_type": "execute_result"
    }
   ],
   "source": [
    "str(num)"
   ]
  },
  {
   "cell_type": "code",
   "execution_count": null,
   "id": "5390803e-02ff-4f77-8765-628eefefe318",
   "metadata": {},
   "outputs": [],
   "source": []
  }
 ],
 "metadata": {
  "kernelspec": {
   "display_name": "Python 3 (ipykernel)",
   "language": "python",
   "name": "python3"
  },
  "language_info": {
   "codemirror_mode": {
    "name": "ipython",
    "version": 3
   },
   "file_extension": ".py",
   "mimetype": "text/x-python",
   "name": "python",
   "nbconvert_exporter": "python",
   "pygments_lexer": "ipython3",
   "version": "3.10.8"
  }
 },
 "nbformat": 4,
 "nbformat_minor": 5
}
